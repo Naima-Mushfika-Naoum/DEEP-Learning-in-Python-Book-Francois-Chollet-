{
  "nbformat": 4,
  "nbformat_minor": 0,
  "metadata": {
    "colab": {
      "name": "Chapter 2 Hand Digit Dataset.ipynb",
      "provenance": [],
      "toc_visible": true,
      "authorship_tag": "ABX9TyMA/sUE+4a662dxiYElnqza",
      "include_colab_link": true
    },
    "kernelspec": {
      "name": "python3",
      "display_name": "Python 3"
    },
    "language_info": {
      "name": "python"
    }
  },
  "cells": [
    {
      "cell_type": "markdown",
      "metadata": {
        "id": "view-in-github",
        "colab_type": "text"
      },
      "source": [
        "<a href=\"https://colab.research.google.com/github/Naima-Mushfika-Naoum/DEEP-Learning-in-Python-Book-Francois-Chollet-/blob/main/Chapter_2_Hand_Digit_Dataset.ipynb\" target=\"_parent\"><img src=\"https://colab.research.google.com/assets/colab-badge.svg\" alt=\"Open In Colab\"/></a>"
      ]
    },
    {
      "cell_type": "markdown",
      "metadata": {
        "id": "DsmVLwflg9BN"
      },
      "source": [
        "# Book Name : \n",
        "MEAP Edition Manning *Early Access Program Deep Learning with Python*\n",
        "\n",
        "Version 6\n",
        "\n",
        "**Author: Francois Chollet** \n",
        "\n",
        "Chapter :02"
      ]
    },
    {
      "cell_type": "markdown",
      "metadata": {
        "id": "t1JDy-H1da8Q"
      },
      "source": [
        "# Loading Hand Digit Dataset"
      ]
    },
    {
      "cell_type": "code",
      "metadata": {
        "colab": {
          "base_uri": "https://localhost:8080/"
        },
        "id": "HxatmEJhdGUE",
        "outputId": "132c3cec-5fa1-4814-bcea-54dd6fccd037"
      },
      "source": [
        "from keras.datasets import mnist\n",
        "(train_images, train_labels), (test_images, test_labels) = mnist.load_data()"
      ],
      "execution_count": null,
      "outputs": [
        {
          "output_type": "stream",
          "text": [
            "Downloading data from https://storage.googleapis.com/tensorflow/tf-keras-datasets/mnist.npz\n",
            "11493376/11490434 [==============================] - 0s 0us/step\n",
            "11501568/11490434 [==============================] - 0s 0us/step\n"
          ],
          "name": "stdout"
        }
      ]
    },
    {
      "cell_type": "markdown",
      "metadata": {
        "id": "zXKRI9S6dY0D"
      },
      "source": [
        "# Train_Test Data"
      ]
    },
    {
      "cell_type": "code",
      "metadata": {
        "colab": {
          "base_uri": "https://localhost:8080/"
        },
        "id": "LzY_foJKdXLT",
        "outputId": "be88498a-2f22-4a7c-98f7-3046590f9ccf"
      },
      "source": [
        "train_images.shape"
      ],
      "execution_count": null,
      "outputs": [
        {
          "output_type": "execute_result",
          "data": {
            "text/plain": [
              "(60000, 28, 28)"
            ]
          },
          "metadata": {},
          "execution_count": 2
        }
      ]
    },
    {
      "cell_type": "code",
      "metadata": {
        "colab": {
          "base_uri": "https://localhost:8080/"
        },
        "id": "0cymtu8meNfq",
        "outputId": "2ec5c69f-044e-4c7e-9d44-6fe35418ed0f"
      },
      "source": [
        "len(train_labels)"
      ],
      "execution_count": null,
      "outputs": [
        {
          "output_type": "execute_result",
          "data": {
            "text/plain": [
              "60000"
            ]
          },
          "metadata": {},
          "execution_count": 3
        }
      ]
    },
    {
      "cell_type": "code",
      "metadata": {
        "colab": {
          "base_uri": "https://localhost:8080/"
        },
        "id": "EwsBcFzVeTxH",
        "outputId": "b03593a9-6356-4938-d824-dfc7e36cfb97"
      },
      "source": [
        "train_labels"
      ],
      "execution_count": null,
      "outputs": [
        {
          "output_type": "execute_result",
          "data": {
            "text/plain": [
              "array([5, 0, 4, ..., 5, 6, 8], dtype=uint8)"
            ]
          },
          "metadata": {},
          "execution_count": 4
        }
      ]
    },
    {
      "cell_type": "markdown",
      "metadata": {
        "id": "C7UAotzqedHJ"
      },
      "source": [
        "# *Test Data*"
      ]
    },
    {
      "cell_type": "code",
      "metadata": {
        "colab": {
          "base_uri": "https://localhost:8080/"
        },
        "id": "eDu8jodMej4O",
        "outputId": "a00e5702-6eba-4cb5-a1d3-1820f28ef458"
      },
      "source": [
        "test_images.shape"
      ],
      "execution_count": null,
      "outputs": [
        {
          "output_type": "execute_result",
          "data": {
            "text/plain": [
              "(10000, 28, 28)"
            ]
          },
          "metadata": {},
          "execution_count": 5
        }
      ]
    },
    {
      "cell_type": "code",
      "metadata": {
        "colab": {
          "base_uri": "https://localhost:8080/"
        },
        "id": "TNpnTAIGerDY",
        "outputId": "e4e16e7b-fea2-4bc0-89e2-e8832cda43f0"
      },
      "source": [
        "len(test_labels)"
      ],
      "execution_count": null,
      "outputs": [
        {
          "output_type": "execute_result",
          "data": {
            "text/plain": [
              "10000"
            ]
          },
          "metadata": {},
          "execution_count": 6
        }
      ]
    },
    {
      "cell_type": "code",
      "metadata": {
        "colab": {
          "base_uri": "https://localhost:8080/"
        },
        "id": "qs7CCQ4meyUk",
        "outputId": "b7835aa2-710d-4d24-a4ae-6b8e564a41ea"
      },
      "source": [
        "test_labels"
      ],
      "execution_count": null,
      "outputs": [
        {
          "output_type": "execute_result",
          "data": {
            "text/plain": [
              "array([7, 2, 1, ..., 4, 5, 6], dtype=uint8)"
            ]
          },
          "metadata": {},
          "execution_count": 7
        }
      ]
    },
    {
      "cell_type": "markdown",
      "metadata": {
        "id": "EnEKXbGyfOzX"
      },
      "source": [
        "# Network Architecture"
      ]
    },
    {
      "cell_type": "code",
      "metadata": {
        "id": "SWld6-DVe0pT"
      },
      "source": [
        "from keras import models\n",
        "from keras import layers\n",
        "network = models.Sequential()\n",
        "network.add(layers.Dense(512, activation='relu', input_shape=(28 * 28,)))\n",
        "network.add(layers.Dense(10, activation='softmax'))"
      ],
      "execution_count": null,
      "outputs": []
    },
    {
      "cell_type": "markdown",
      "metadata": {
        "id": "MwC6NaCWflyS"
      },
      "source": [
        "The core building block of neural networks is the \"layer\", a data-processing module\n",
        "which we can **conceive as a \"filter\" for data**. \n",
        "Here our network consists of a sequence of *two Dense layers*, which are\n",
        "densely-connected (also called \"fully-connected\") neural layers. The second (and last)\n",
        "layer is a 10-way \"softmax\" layer, which means it will return an array of **10 probability**\n",
        "scores (summing to 1). Each score will be the probability that the current digit image\n",
        "belongs to one of our 10 digit classes. italicized text"
      ]
    },
    {
      "cell_type": "markdown",
      "metadata": {
        "id": "amjCMGqLgKfk"
      },
      "source": [
        "To make our network ready for training, we need to pick three more things, as part of\n",
        "\"compilation\" step:\n",
        "* ***A loss function***: the is how the network will be able to measure how good a job it is\n",
        "doing on its training data, and thus how it will be able to steer itself in the right direction.\n",
        "* ***An optimizer:*** this is the mechanism through which the network will update itself based\n",
        "on the data it sees and its loss function.\n",
        "* **Metrics** : Used to monitor during training and testing. Here we will only care about accuracy"
      ]
    },
    {
      "cell_type": "markdown",
      "metadata": {
        "id": "mKExQofWiJDx"
      },
      "source": [
        "# The Compile"
      ]
    },
    {
      "cell_type": "code",
      "metadata": {
        "id": "kfNH53Lff6VY"
      },
      "source": [
        "network.compile(optimizer='rmsprop',\n",
        "loss='categorical_crossentropy',\n",
        "metrics=['accuracy'])"
      ],
      "execution_count": null,
      "outputs": []
    },
    {
      "cell_type": "markdown",
      "metadata": {
        "id": "bdHI4gv3iPFz"
      },
      "source": [
        "# Scaling Data"
      ]
    },
    {
      "cell_type": "markdown",
      "metadata": {
        "id": "EwVin4mWiYnP"
      },
      "source": [
        "Before training, we will preprocess our data by reshaping it into the shape that the\n",
        "network expects, and scaling it **so that all values are in the [0, 1] ** interval. Previously,\n",
        "our training images for instance were stored in an array of shape (60000, 28, 28) of\n",
        "type uint8 with values in the  \n",
        " **[0, 255]** interval. We transform it into a float32 array\n",
        "of shape (60000, 28 * 28) with values ***between 0 and 1.***  "
      ]
    },
    {
      "cell_type": "markdown",
      "metadata": {
        "id": "-eEce3bcjKLo"
      },
      "source": [
        "# Preparing Image Data"
      ]
    },
    {
      "cell_type": "code",
      "metadata": {
        "id": "O7pLtmUviXN-"
      },
      "source": [
        "train_images = train_images.reshape((60000, 28 * 28))\n",
        "train_images = train_images.astype('float32') / 255\n",
        "test_images = test_images.reshape((10000, 28 * 28))\n",
        "test_images = test_images.astype('float32') / 255"
      ],
      "execution_count": null,
      "outputs": []
    },
    {
      "cell_type": "markdown",
      "metadata": {
        "id": "TT6Ku_cfjVTE"
      },
      "source": [
        "# Preparing the labels"
      ]
    },
    {
      "cell_type": "markdown",
      "metadata": {
        "id": "rOA-wmEJjjNA"
      },
      "source": [
        "We need to encode labels in categorical."
      ]
    },
    {
      "cell_type": "code",
      "metadata": {
        "id": "xQvRx-JojZat"
      },
      "source": [
        "from tensorflow.keras.utils import to_categorical\n",
        "train_labels = to_categorical(train_labels)\n",
        "test_labels = to_categorical(test_labels)"
      ],
      "execution_count": null,
      "outputs": []
    },
    {
      "cell_type": "markdown",
      "metadata": {
        "id": "rQzkNBzMj9pA"
      },
      "source": [
        "We are now ready to train our network, which in Keras is done via a call to the fit\n",
        "method of the network."
      ]
    },
    {
      "cell_type": "markdown",
      "metadata": {
        "id": "mmBtWPyCkDqO"
      },
      "source": [
        "# Training Network"
      ]
    },
    {
      "cell_type": "code",
      "metadata": {
        "colab": {
          "base_uri": "https://localhost:8080/"
        },
        "id": "XezfBc9SkJ8H",
        "outputId": "16e65f9e-bf31-45fd-d83c-4c12c5601498"
      },
      "source": [
        "network.fit(train_images, train_labels, epochs=5, batch_size=128)"
      ],
      "execution_count": null,
      "outputs": [
        {
          "output_type": "stream",
          "text": [
            "Epoch 1/5\n",
            "469/469 [==============================] - 6s 11ms/step - loss: 0.2587 - accuracy: 0.9256\n",
            "Epoch 2/5\n",
            "469/469 [==============================] - 5s 11ms/step - loss: 0.1036 - accuracy: 0.9694\n",
            "Epoch 3/5\n",
            "469/469 [==============================] - 5s 11ms/step - loss: 0.0689 - accuracy: 0.9793\n",
            "Epoch 4/5\n",
            "469/469 [==============================] - 5s 10ms/step - loss: 0.0488 - accuracy: 0.9855\n",
            "Epoch 5/5\n",
            "469/469 [==============================] - 5s 10ms/step - loss: 0.0367 - accuracy: 0.9885\n"
          ],
          "name": "stdout"
        },
        {
          "output_type": "execute_result",
          "data": {
            "text/plain": [
              "<keras.callbacks.History at 0x7f07491587d0>"
            ]
          },
          "metadata": {},
          "execution_count": 13
        }
      ]
    },
    {
      "cell_type": "markdown",
      "metadata": {
        "id": "R0AdN6h7lNbd"
      },
      "source": [
        "# Evaluating Network"
      ]
    },
    {
      "cell_type": "code",
      "metadata": {
        "colab": {
          "base_uri": "https://localhost:8080/"
        },
        "id": "Vszi4g4alQ1L",
        "outputId": "5d243580-30e1-4c9c-df2f-33ab2b61efe4"
      },
      "source": [
        "test_loss, test_acc = network.evaluate(test_images, test_labels)\n",
        "print('test_acc:', test_acc)"
      ],
      "execution_count": null,
      "outputs": [
        {
          "output_type": "stream",
          "text": [
            "313/313 [==============================] - 1s 3ms/step - loss: 0.0671 - accuracy: 0.9789\n",
            "test_acc: 0.9789000153541565\n"
          ],
          "name": "stdout"
        }
      ]
    },
    {
      "cell_type": "markdown",
      "metadata": {
        "id": "p4R9odzTlfcF"
      },
      "source": [
        "Our test set accuracy turns out to be 97.8%—that’s quite a bit lower than the training\n",
        "set accuracy. This gap between training accuracy and test accuracy is an example of\n",
        "**\"overfitting\"**, the fact that machine learning models tend to perform worse on new data\n",
        "than on their training data."
      ]
    },
    {
      "cell_type": "code",
      "metadata": {
        "id": "XoW4mvVqldSc"
      },
      "source": [
        ""
      ],
      "execution_count": null,
      "outputs": []
    }
  ]
}